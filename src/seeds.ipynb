{
 "cells": [
  {
   "cell_type": "markdown",
   "metadata": {},
   "source": [
    "# Classifying types of seeds  \n",
    "\n",
    "This is a small analysis project using analysis techniques to classify types of seeds. \n",
    "Dataset is sourced from UCI database: https://archive.ics.uci.edu/ml/datasets/seeds\n",
    "\n",
    "The main goal of this project was to find the highest classification rate using two different classification models, K-Nearest Neighbors and Random Forest. \n",
    "In addition, some visualization work was done on the data.  \n",
    "\n",
    "## Dataset  \n",
    "\n",
    "The dataset contains seven attributes: \n",
    "- seed area\n",
    "- seed perimeter\n",
    "- compactness of seed \n",
    "- seed length \n",
    "- seed width\n",
    "- asymmetry of seed\n",
    "- length of seed groove\n",
    "\n",
    "The class variable is the type of seed: Kama, Rosa, and Canadian, labeled as 1, 2, and 3. The dataset contains 70 observations for each of the three seed types.  \n",
    "\n",
    "The goal is to see if the attributes can be used to classify the seeds as their respective seed type, and which attributes are most useful in this venture.  \n",
    "\n",
    "## Preliminary work  \n",
    "Load the dataset in and examine the first few rows of observations. "
   ]
  },
  {
   "cell_type": "code",
   "execution_count": 3,
   "metadata": {},
   "outputs": [
    {
     "name": "stdout",
     "output_type": "stream",
     "text": [
      "    area  perimeter  compact  length  width  asymmetry  groove  seed_type\n",
      "0  15.26      14.84   0.8710   5.763  3.312      2.221   5.220          1\n",
      "1  14.88      14.57   0.8811   5.554  3.333      1.018   4.956          1\n",
      "2  14.29      14.09   0.9050   5.291  3.337      2.699   4.825          1\n",
      "3  13.84      13.94   0.8955   5.324  3.379      2.259   4.805          1\n",
      "4  16.14      14.99   0.9034   5.658  3.562      1.355   5.175          1\n",
      "5  14.38      14.21   0.8951   5.386  3.312      2.462   4.956          1\n",
      "6  14.69      14.49   0.8799   5.563  3.259      3.586   5.219          1\n",
      "7  14.11      14.10   0.8911   5.420  3.302      2.700   5.000          1\n",
      "8  16.63      15.46   0.8747   6.053  3.465      2.040   5.877          1\n"
     ]
    }
   ],
   "source": [
    "{ \"tags\": [\"hide-input\", ] }\n",
    "\n",
    "import pandas as pd\n",
    "import matplotlib.pyplot as plt\n",
    "import numpy as np\n",
    "import seaborn as sns\n",
    "import sklearn as skl\n",
    "from sklearn.model_selection import train_test_split\n",
    "from sklearn.ensemble import RandomForestClassifier\n",
    "from sklearn.neighbors import KNeighborsClassifier\n",
    "from sklearn import metrics\n",
    "\n",
    "# get data, file has spaces and tabs as separators\n",
    "seeds = pd.read_csv(\"../data/seeds_dataset.txt\", sep = '\\s+|\\t| ', \n",
    "                    header = None, engine= \"python\",\n",
    "                    names = [\"area\", \"perimeter\", \"compact\", \"length\", \n",
    "                    \"width\", \"asymmetry\", \"groove\", \"seed_type\"])\n",
    "\n",
    "# examine data\n",
    "print(seeds.iloc[0:9])\n",
    "\n",
    "                    "
   ]
  }
 ],
 "metadata": {
  "kernelspec": {
   "display_name": "Python 3.10.6 64-bit",
   "language": "python",
   "name": "python3"
  },
  "language_info": {
   "codemirror_mode": {
    "name": "ipython",
    "version": 3
   },
   "file_extension": ".py",
   "mimetype": "text/x-python",
   "name": "python",
   "nbconvert_exporter": "python",
   "pygments_lexer": "ipython3",
   "version": "3.10.6"
  },
  "orig_nbformat": 4,
  "vscode": {
   "interpreter": {
    "hash": "916dbcbb3f70747c44a77c7bcd40155683ae19c65e1c03b4aa3499c5328201f1"
   }
  }
 },
 "nbformat": 4,
 "nbformat_minor": 2
}
