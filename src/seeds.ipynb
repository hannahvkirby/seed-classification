{
 "cells": [
  {
   "cell_type": "markdown",
   "metadata": {},
   "source": [
    "# Classifying seeds  \n",
    "\n",
    "This is a small analysis project using classification techniques to identify different types of seeds. \n",
    "Dataset is sourced from UCI database: https://archive.ics.uci.edu/ml/datasets/seeds\n",
    "\n",
    "The main goal of this project was to find the highest classification rate using two different classification models, K-Nearest Neighbors and Random Forest. \n",
    "In addition, some visualization work was done on the data.  \n",
    "\n",
    "## Dataset  \n",
    "\n",
    "The dataset contains seven attributes: \n",
    "- seed area\n",
    "- seed perimeter\n",
    "- compactness of seed \n",
    "- seed length \n",
    "- seed width\n",
    "- asymmetry of seed\n",
    "- length of seed groove\n",
    "\n",
    "The class variable is the type of seed: Kama, Rosa, and Canadian, labeled as 1, 2, and 3. The dataset contains 70 observations for each of the three seed types.  \n",
    "\n",
    "The goal is to see if the attributes can be used to classify the seeds as their respective seed type, and which attributes are most useful in this venture.  \n",
    "\n",
    "## Preliminary work  \n",
    "Load the dataset in and examine the first few rows of observations. "
   ]
  },
  {
   "cell_type": "code",
   "execution_count": 61,
   "metadata": {
    "tags": [
     "hide-input"
    ]
   },
   "outputs": [
    {
     "name": "stdout",
     "output_type": "stream",
     "text": [
      "    area  perimeter  compact  length  width  asymmetry  groove  seed_type\n",
      "0  15.26      14.84   0.8710   5.763  3.312      2.221   5.220          1\n",
      "1  14.88      14.57   0.8811   5.554  3.333      1.018   4.956          1\n",
      "2  14.29      14.09   0.9050   5.291  3.337      2.699   4.825          1\n",
      "3  13.84      13.94   0.8955   5.324  3.379      2.259   4.805          1\n",
      "4  16.14      14.99   0.9034   5.658  3.562      1.355   5.175          1\n",
      "5  14.38      14.21   0.8951   5.386  3.312      2.462   4.956          1\n",
      "6  14.69      14.49   0.8799   5.563  3.259      3.586   5.219          1\n",
      "7  14.11      14.10   0.8911   5.420  3.302      2.700   5.000          1\n",
      "8  16.63      15.46   0.8747   6.053  3.465      2.040   5.877          1\n"
     ]
    }
   ],
   "source": [
    "import pandas as pd\n",
    "import matplotlib.pyplot as plt\n",
    "import seaborn as sns\n",
    "import numpy as np\n",
    "import sklearn as skl\n",
    "from tabulate import tabulate\n",
    "from sklearn.model_selection import train_test_split\n",
    "from sklearn.ensemble import RandomForestClassifier\n",
    "from sklearn.neighbors import KNeighborsClassifier\n",
    "# get data, file has spaces and tabs as separators\n",
    "names = [\"area\", \"perimeter\", \"compact\", \"length\", \n",
    "                    \"width\", \"asymmetry\", \"groove\", \"seed_type\"]\n",
    "seeds = pd.read_csv(\"../data/seeds_dataset.txt\", sep = '\\s+|\\t| ', \n",
    "                    header = None, engine= \"python\",\n",
    "                    names = names)\n",
    "\n",
    "# examine data\n",
    "print(seeds.iloc[0:9])\n",
    "\n",
    "                    "
   ]
  },
  {
   "cell_type": "markdown",
   "metadata": {},
   "source": [
    "### Summary Statistics  \n",
    "\n",
    "We can examine the mean and standard deviation of the attributes:  "
   ]
  },
  {
   "cell_type": "code",
   "execution_count": 62,
   "metadata": {},
   "outputs": [
    {
     "name": "stdout",
     "output_type": "stream",
     "text": [
      "Attribute         Mean\n",
      "-----------  ---------\n",
      "area         14.8475\n",
      "perimeter    14.5593\n",
      "compact       0.870999\n",
      "length        5.62853\n",
      "width         3.2586\n",
      "asymmetry     3.7002\n",
      "groove        5.40807 \n",
      "\n",
      "Attribute      Standard Deviation\n",
      "-----------  --------------------\n",
      "area                    2.9097\n",
      "perimeter               1.30596\n",
      "compact                 0.0236294\n",
      "length                  0.443063\n",
      "width                   0.377714\n",
      "asymmetry               1.50356\n",
      "groove                  0.49148\n"
     ]
    }
   ],
   "source": [
    "# put means and SDs in dataframes and print using tabulate\n",
    "means = pd.DataFrame(seeds.iloc[:,0:7].mean())\n",
    "print (tabulate(means, headers=[\"Attribute\", \"Mean\"]), \"\\n\")\n",
    "\n",
    "sdevs = pd.DataFrame(seeds.iloc[:,0:7].std())\n",
    "print (tabulate(sdevs, headers=[\"Attribute\", \"Standard Deviation\"]))\n"
   ]
  },
  {
   "cell_type": "markdown",
   "metadata": {},
   "source": [
    "Next, a boxplot can help visualize the attributes' distributions.  "
   ]
  },
  {
   "cell_type": "code",
   "execution_count": 63,
   "metadata": {},
   "outputs": [
    {
     "data": {
      "image/png": "[encoded data removed]",
      "text/plain": [
       "<Figure size 640x480 with 1 Axes>"
      ]
     },
     "metadata": {},
     "output_type": "display_data"
    }
   ],
   "source": [
    "sns.boxplot(seeds.iloc[:,0:7])\n",
    "\n",
    "plt.title(\"Attribute Boxplot\")\n",
    "plt.xlabel(\"Attribute\")\n",
    "plt.ylabel(\"Units (varies)\")\n",
    "\n",
    "plt.show()"
   ]
  },
  {
   "cell_type": "markdown",
   "metadata": {},
   "source": [
    "The distributions of area and perimeter are shifted over quite far compared to the other attributes. Some scaling of variables may be required for use with techniques such as KNN, to ensure the attributes are properly weighted.  \n",
    "\n",
    "We can also look at the distributions of the attributes when separated into the three seed types: the attributes with the greatest disparities may be useful when classifying, as they are likely the best indicators of different seed types.  "
   ]
  },
  {
   "cell_type": "code",
   "execution_count": 64,
   "metadata": {},
   "outputs": [
    {
     "data": {
      "text/plain": [
       "Text(0.5, 1.0, 'Attribute Boxplot Grouped by Seed Type')"
      ]
     },
     "execution_count": 64,
     "metadata": {},
     "output_type": "execute_result"
    }
   ],
   "source": [
    "# boxplot grouped by seed type for each attribute \n",
    "\n",
    "sns.boxplot(x = \"variable\", y = \"value\", data = pd.melt(seeds, id_vars = \"seed_type\"), hue = \"seed_type\")\n",
    "plt.xlabel(\"Attribute\")\n",
    "plt.ylabel(\"Unit (varies)\")\n",
    "plt.title(\"Attribute Boxplot Grouped by Seed Type\")\n",
    "plt.show()"
   ]
  },
  {
   "cell_type": "markdown",
   "metadata": {},
   "source": [
    "The attributes area, perimeter, and asymmetry have the largest apparent disparities. The compactness of a seed does not appear to strongly affect its type. When scaled, the other attributes may also be useful, but more analysis is required. "
   ]
  }
 ],
 "metadata": {
  "kernelspec": {
   "display_name": "Python 3.10.6 64-bit",
   "language": "python",
   "name": "python3"
  },
  "language_info": {
   "codemirror_mode": {
    "name": "ipython",
    "version": 3
   },
   "file_extension": ".py",
   "mimetype": "text/x-python",
   "name": "python",
   "nbconvert_exporter": "python",
   "pygments_lexer": "ipython3",
   "version": "3.10.6"
  },
  "orig_nbformat": 4,
  "vscode": {
   "interpreter": {
    "hash": "916dbcbb3f70747c44a77c7bcd40155683ae19c65e1c03b4aa3499c5328201f1"
   }
  }
 },
 "nbformat": 4,
 "nbformat_minor": 2
}
