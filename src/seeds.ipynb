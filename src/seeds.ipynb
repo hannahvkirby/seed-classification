{
 "cells": [
  {
   "cell_type": "markdown",
   "metadata": {},
   "source": [
    "# Classifying types of seeds  \n",
    "\n",
    "This is a small analysis project using analysis techniques to classify types of seeds. \n",
    "Dataset is sourced from UCI database: https://archive.ics.uci.edu/ml/datasets/seeds\n",
    "\n",
    "The main goal of this project was to find the highest classification rate using two different classification models, K-Nearest Neighbors and Random Forest. \n",
    "In addition, some visualization work was done on the data.  "
   ]
  }
 ],
 "metadata": {
  "kernelspec": {
   "display_name": "Python 3.10.6 64-bit",
   "language": "python",
   "name": "python3"
  },
  "language_info": {
   "name": "python",
   "version": "3.10.6"
  },
  "orig_nbformat": 4,
  "vscode": {
   "interpreter": {
    "hash": "916dbcbb3f70747c44a77c7bcd40155683ae19c65e1c03b4aa3499c5328201f1"
   }
  }
 },
 "nbformat": 4,
 "nbformat_minor": 2
}
